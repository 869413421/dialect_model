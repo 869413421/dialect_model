{
 "cells": [
  {
   "cell_type": "code",
   "id": "initial_id",
   "metadata": {
    "collapsed": true
   },
   "source": "# 方言翻译数据集合准备",
   "outputs": [],
   "execution_count": null
  },
  {
   "metadata": {},
   "cell_type": "markdown",
   "source": [
    "\n",
    "# 基本流程\n",
    "    - 抽取中文对话数据集\n",
    "    - 统计出现最多的词\n",
    "    - 建立词表\n",
    "    - 人工标注\n",
    "    - 简单替换词翻译\n",
    "    - 检查翻译结果"
   ],
   "id": "56ee25f4d6b4b2f2"
  },
  {
   "metadata": {},
   "cell_type": "markdown",
   "source": "## Step1 中文对话数据集合",
   "id": "a41ed69ed37d06b5"
  },
  {
   "metadata": {},
   "cell_type": "code",
   "source": [
    "import json\n",
    "\n",
    "from datasets import Dataset\n",
    "\n",
    "input_file = \"./train.jsonl\"\n",
    "\n",
    "\n",
    "def load_jsonl_data(file_path):\n",
    "    json_data = []\n",
    "    with open(file_path, 'r', encoding='utf-8') as f:\n",
    "        for line in f:\n",
    "            json_data.append(json.loads(line.strip()))\n",
    "    return json_data\n",
    "\n",
    "\n",
    "# 将数据加载为 Dataset 格式\n",
    "data = load_jsonl_data(input_file)\n",
    "dataset = Dataset.from_list(data)\n",
    "dataset"
   ],
   "id": "82f9fb422eb0ee6e",
   "outputs": [],
   "execution_count": null
  },
  {
   "metadata": {},
   "cell_type": "code",
   "source": "questions = dataset['question']",
   "id": "42c18405872aa9f5",
   "outputs": [],
   "execution_count": null
  },
  {
   "metadata": {},
   "cell_type": "code",
   "source": "answers = dataset['answer']",
   "id": "1fa9cff0920f74b3",
   "outputs": [],
   "execution_count": null
  },
  {
   "metadata": {},
   "cell_type": "markdown",
   "source": "# Step2 统计出现最多的词",
   "id": "23702f07c3002c3f"
  },
  {
   "metadata": {},
   "cell_type": "code",
   "source": [
    "import jieba, re\n",
    "from collections import Counter\n",
    "\n",
    "# 将所有标题合并为一个长字符串\n",
    "text = \" \".join(questions)\n",
    "\n",
    "# 使用 jieba 进行分词\n",
    "words = jieba.lcut(text)\n",
    "\n",
    "# 使用 Counter 统计词频\n",
    "# 去掉标点符号并过滤掉单字词\n",
    "filtered_words = [word for word in words if len(word) > 1 and re.match(r'[\\u4e00-\\u9fff]+', word)]\n",
    "\n",
    "# 使用 Counter 统计词频\n",
    "word_counts = Counter(filtered_words)\n",
    "\n",
    "# 找出出现次数最多的词\n",
    "most_common_words = word_counts.most_common(200)  # 获取出现次数最多的200个词\n",
    "\n",
    "# 写入CSV\n",
    "print(\"出现次数最多的词：\")\n",
    "with open('most_common_words.csv', 'w', encoding='utf-8') as f:\n",
    "    for word, count in most_common_words:\n",
    "        print(f\"{word},{count}\")\n",
    "        f.write(f\"{word},{count}\\n\")"
   ],
   "id": "d2ce977c51e96fc0",
   "outputs": [],
   "execution_count": null
  },
  {
   "metadata": {},
   "cell_type": "markdown",
   "source": [
    "# Step3 人工标注\n",
    "## 因为没有相关的翻译数据集，只能将常用的词人工翻译。"
   ],
   "id": "9f9ba8c045baa6fc"
  },
  {
   "metadata": {},
   "cell_type": "markdown",
   "source": "# Step4根据人工标注数据，简单替换词翻译",
   "id": "2181597551c18250"
  },
  {
   "metadata": {},
   "cell_type": "code",
   "source": [
    "with open('translate_dict.csv', 'r', encoding='gbk') as f:\n",
    "    lines = f.readlines()\n",
    "    translate_dict = {line.split(',')[1].strip(): line.split(',')[0].strip() for line in lines}\n",
    "    # 根据字符长度排序\n",
    "    translate_dict = sorted(translate_dict.items(), key=lambda x: len(x[0]), reverse=True)\n",
    "\n",
    "translate_dict"
   ],
   "id": "628e7513be879ac2",
   "outputs": [],
   "execution_count": null
  },
  {
   "metadata": {},
   "cell_type": "code",
   "source": "# Step5简单翻译数据集",
   "id": "a9816f10f3805e78",
   "outputs": [],
   "execution_count": null
  },
  {
   "metadata": {},
   "cell_type": "code",
   "source": [
    "def translate(trans_text):\n",
    "    total_replaced_chars = 0  # 记录替换的字数\n",
    "\n",
    "    for k, v in translate_dict:\n",
    "        while k in trans_text:\n",
    "            # 记录替换前后长度的差值（即替换的字数）\n",
    "            replaced_count = trans_text.count(k) * len(k)\n",
    "            total_replaced_chars += replaced_count\n",
    "\n",
    "            # 进行替换\n",
    "            trans_text = trans_text.replace(k, v)\n",
    "\n",
    "    return trans_text, total_replaced_chars"
   ],
   "id": "4faf7ab29416f3cf",
   "outputs": [],
   "execution_count": null
  },
  {
   "metadata": {},
   "cell_type": "code",
   "source": [
    "trans_data = []\n",
    "\n",
    "# 翻译结果写入为jsonl\n",
    "for question, answer in zip(questions, answers):\n",
    "    trans_question, question_replaced = translate(question)\n",
    "    if question != trans_question:\n",
    "        sc = question_replaced / len(question)\n",
    "        if sc > 0.2:\n",
    "            trans_data.append({\"input_text\": question, \"target_text\": trans_question, \"replaced_chars\": question_replaced})\n",
    "\n",
    "    trans_answer, answer_replaced = translate(answer)\n",
    "    if answer != trans_answer:\n",
    "        if question_replaced / len(question) > 0.2:\n",
    "            trans_data.append({\"input_text\": answer, \"target_text\": trans_answer, \"replaced_chars\": answer_replaced})\n",
    "\n",
    "# 随机打乱数据集\n",
    "import random\n",
    "\n",
    "random.shuffle(trans_data)\n",
    "with open('translate_trans_data.jsonl', 'w', encoding='utf-8') as f:\n",
    "    for item in trans_data[:40000]:\n",
    "        f.write(json.dumps(item, ensure_ascii=False) + '\\n')"
   ],
   "id": "5649ed8e83ff7080",
   "outputs": [],
   "execution_count": null
  }
 ],
 "metadata": {
  "kernelspec": {
   "display_name": "Python 3 (ipykernel)",
   "language": "python",
   "name": "python3"
  },
  "language_info": {
   "codemirror_mode": {
    "name": "ipython",
    "version": 2
   },
   "file_extension": ".py",
   "mimetype": "text/x-python",
   "name": "python",
   "nbconvert_exporter": "python",
   "pygments_lexer": "ipython2",
   "version": "2.7.6"
  }
 },
 "nbformat": 4,
 "nbformat_minor": 5
}
