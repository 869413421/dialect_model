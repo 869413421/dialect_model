{
 "cells": [
  {
   "cell_type": "code",
   "id": "initial_id",
   "metadata": {
    "collapsed": true
   },
   "source": "# 方言翻译数据集合准备",
   "outputs": [],
   "execution_count": null
  },
  {
   "metadata": {},
   "cell_type": "markdown",
   "source": [
    "\n",
    "# 基本流程\n",
    "    - 抽取中文对话数据集\n",
    "    - 统计出现最多的词\n",
    "    - 建立词表\n",
    "    - 人工标注\n",
    "    - 简单替换词翻译\n",
    "    - 检查翻译结果"
   ],
   "id": "56ee25f4d6b4b2f2"
  },
  {
   "metadata": {},
   "cell_type": "markdown",
   "source": "## Step1 中文对话数据集合",
   "id": "a41ed69ed37d06b5"
  },
  {
   "metadata": {
    "ExecuteTime": {
     "end_time": "2024-11-12T02:58:16.904069Z",
     "start_time": "2024-11-12T02:58:12.796880Z"
    }
   },
   "cell_type": "code",
   "source": [
    "import json\n",
    "\n",
    "from datasets import Dataset\n",
    "\n",
    "input_file = \"./train.jsonl\"\n",
    "\n",
    "\n",
    "def load_jsonl_data(file_path):\n",
    "    json_data = []\n",
    "    with open(file_path, 'r', encoding='utf-8') as f:\n",
    "        for line in f:\n",
    "            json_data.append(json.loads(line.strip()))\n",
    "    return json_data\n",
    "\n",
    "\n",
    "# 将数据加载为 Dataset 格式\n",
    "data = load_jsonl_data(input_file)\n",
    "dataset = Dataset.from_list(data)\n",
    "dataset"
   ],
   "id": "82f9fb422eb0ee6e",
   "outputs": [
    {
     "data": {
      "text/plain": [
       "Dataset({\n",
       "    features: ['question', 'answer'],\n",
       "    num_rows: 274148\n",
       "})"
      ]
     },
     "execution_count": 2,
     "metadata": {},
     "output_type": "execute_result"
    }
   ],
   "execution_count": 2
  },
  {
   "metadata": {
    "ExecuteTime": {
     "end_time": "2024-11-12T02:58:19.709272Z",
     "start_time": "2024-11-12T02:58:19.264547Z"
    }
   },
   "cell_type": "code",
   "source": "questions = dataset['question']",
   "id": "42c18405872aa9f5",
   "outputs": [],
   "execution_count": 3
  },
  {
   "metadata": {
    "ExecuteTime": {
     "end_time": "2024-11-12T02:58:22.817512Z",
     "start_time": "2024-11-12T02:58:22.301371Z"
    }
   },
   "cell_type": "code",
   "source": "answers = dataset['answer']",
   "id": "1fa9cff0920f74b3",
   "outputs": [],
   "execution_count": 4
  },
  {
   "metadata": {},
   "cell_type": "markdown",
   "source": "# Step2 统计出现最多的词",
   "id": "23702f07c3002c3f"
  },
  {
   "metadata": {},
   "cell_type": "code",
   "source": [
    "import jieba, re\n",
    "from collections import Counter\n",
    "\n",
    "# 将所有标题合并为一个长字符串\n",
    "text = \" \".join(questions)\n",
    "\n",
    "# 使用 jieba 进行分词\n",
    "words = jieba.lcut(text)\n",
    "\n",
    "# 使用 Counter 统计词频\n",
    "# 去掉标点符号并过滤掉单字词\n",
    "filtered_words = [word for word in words if len(word) > 1 and re.match(r'[\\u4e00-\\u9fff]+', word)]\n",
    "\n",
    "# 使用 Counter 统计词频\n",
    "word_counts = Counter(filtered_words)\n",
    "\n",
    "# 找出出现次数最多的词\n",
    "most_common_words = word_counts.most_common(200)  # 获取出现次数最多的200个词\n",
    "\n",
    "# 写入CSV\n",
    "print(\"出现次数最多的词：\")\n",
    "with open('most_common_words.csv', 'w', encoding='utf-8') as f:\n",
    "    for word, count in most_common_words:\n",
    "        print(f\"{word},{count}\")\n",
    "        f.write(f\"{word},{count}\\n\")"
   ],
   "id": "d2ce977c51e96fc0",
   "outputs": [],
   "execution_count": null
  },
  {
   "metadata": {},
   "cell_type": "markdown",
   "source": [
    "# Step3 人工标注\n",
    "## 因为没有相关的翻译数据集，只能将常用的词人工翻译。"
   ],
   "id": "9f9ba8c045baa6fc"
  },
  {
   "metadata": {},
   "cell_type": "markdown",
   "source": "# Step4根据人工标注数据，简单替换词翻译",
   "id": "2181597551c18250"
  },
  {
   "metadata": {
    "ExecuteTime": {
     "end_time": "2024-11-12T03:14:00.779844Z",
     "start_time": "2024-11-12T03:14:00.762120Z"
    }
   },
   "cell_type": "code",
   "source": [
    "with open('translate_dict.csv', 'r', encoding='gbk') as f:\n",
    "    lines = f.readlines()\n",
    "    translate_dict = {line.split(',')[1].strip(): line.split(',')[0].strip() for line in lines}\n",
    "    # 根据字符长度排序\n",
    "    translate_dict = sorted(translate_dict.items(), key=lambda x: len(x[0]), reverse=True)\n",
    "\n",
    "translate_dict"
   ],
   "id": "628e7513be879ac2",
   "outputs": [
    {
     "data": {
      "text/plain": [
       "[('小声说话', '噏'),\n",
       " ('怀恨在心', '努'),\n",
       " ('哪些方面', '嘘呢方面'),\n",
       " ('拿东西', '孭'),\n",
       " ('不知道', '矛day'),\n",
       " ('有没有', '有矛'),\n",
       " ('为什么', '点解'),\n",
       " ('是不是', '系矛系'),\n",
       " ('怎么样', '点样'),\n",
       " ('地方', '埞'),\n",
       " ('躲藏', '奄'),\n",
       " ('小孩', '侬'),\n",
       " ('那里', '嘘'),\n",
       " ('这些', '匿'),\n",
       " ('没有', '矛'),\n",
       " ('蹲坐', '踎'),\n",
       " ('爬上', '唛'),\n",
       " ('扳开', '唛'),\n",
       " ('看护', '共'),\n",
       " ('一起', '共'),\n",
       " ('背着', '孭'),\n",
       " ('一块', '嚿'),\n",
       " ('正好', '啱'),\n",
       " ('省钱', '悭'),\n",
       " ('生气', '嬲'),\n",
       " ('女人', '夫乸'),\n",
       " ('男人', '马甩佬'),\n",
       " ('雌性', '乸'),\n",
       " ('殴打', '抦'),\n",
       " ('靠着', 'beng'),\n",
       " ('稀泥', '泥湴'),\n",
       " ('抬起', '掂'),\n",
       " ('欺负', '虾'),\n",
       " ('害怕', '狂'),\n",
       " ('挑逗', '撩'),\n",
       " ('什么', '乜野'),\n",
       " ('哪些', '嘘呢'),\n",
       " ('是否', '系矛'),\n",
       " ('如何', '点子'),\n",
       " ('一些', '一呢'),\n",
       " ('哪个', '嘘只'),\n",
       " ('知道', 'day到'),\n",
       " ('这个', '个只'),\n",
       " ('告诉', '讲'),\n",
       " ('工作', '做工'),\n",
       " ('使用', '使'),\n",
       " ('提供', '俾'),\n",
       " ('能否', '可以'),\n",
       " ('一个', '一只'),\n",
       " ('著名', '出名'),\n",
       " ('最近', '近排'),\n",
       " ('怎样', '点子'),\n",
       " ('几个', '几只'),\n",
       " ('通常', '往事'),\n",
       " ('哪位', '嘘只'),\n",
       " ('今天', '个日'),\n",
       " ('近期', '近排'),\n",
       " ('这种', '个种'),\n",
       " ('多少', '几多'),\n",
       " ('现在', '个阵'),\n",
       " ('哪里', '嘘女'),\n",
       " ('人们', '大家'),\n",
       " ('说明', '讲明'),\n",
       " ('完成', '做齐'),\n",
       " ('怎么', '点子'),\n",
       " ('选择', '简'),\n",
       " ('喜欢', '中意'),\n",
       " ('儿子', '仔'),\n",
       " ('女儿', '女'),\n",
       " ('当然', '梗系'),\n",
       " ('跟', '戥'),\n",
       " ('挽', '捋'),\n",
       " ('溪', '埒'),\n",
       " ('盖', '罨'),\n",
       " ('洗', '揩'),\n",
       " ('玩', '荡'),\n",
       " ('拿', '拈'),\n",
       " ('叫', '哓'),\n",
       " ('吃', '嘿'),\n",
       " ('与', '捞'),\n",
       " ('踮', '拎'),\n",
       " ('提', '拎'),\n",
       " ('扔', '麦'),\n",
       " ('竖', '洞'),\n",
       " ('插', '吉'),\n",
       " ('圈', '辘'),\n",
       " ('骗', '呃'),\n",
       " ('哄', '凼'),\n",
       " ('养', 'han'),\n",
       " ('口', '啖'),\n",
       " ('给', '俾'),\n",
       " ('推', '跫'),\n",
       " ('触', '掂'),\n",
       " ('碰', '掂'),\n",
       " ('想', '谂'),\n",
       " ('搓', '捻'),\n",
       " ('窝', '閗'),\n",
       " ('跨', '遖'),\n",
       " ('哪', '嘘'),\n",
       " ('没', '矛'),\n",
       " ('看', '睇'),\n",
       " ('的', '葛'),\n",
       " ('吗', '嘛'),\n",
       " ('是', '系'),\n",
       " ('啥', '乜野')]"
      ]
     },
     "execution_count": 20,
     "metadata": {},
     "output_type": "execute_result"
    }
   ],
   "execution_count": 20
  },
  {
   "metadata": {},
   "cell_type": "code",
   "source": "# Step5简单翻译数据集",
   "id": "a9816f10f3805e78",
   "outputs": [],
   "execution_count": null
  },
  {
   "metadata": {
    "ExecuteTime": {
     "end_time": "2024-11-12T03:14:03.598643Z",
     "start_time": "2024-11-12T03:14:03.583357Z"
    }
   },
   "cell_type": "code",
   "source": [
    "def translate(trans_text):\n",
    "    total_replaced_chars = 0  # 记录替换的字数\n",
    "\n",
    "    for k, v in translate_dict:\n",
    "        while k in trans_text:\n",
    "            # 记录替换前后长度的差值（即替换的字数）\n",
    "            replaced_count = trans_text.count(k) * len(k)\n",
    "            total_replaced_chars += replaced_count\n",
    "\n",
    "            # 进行替换\n",
    "            trans_text = trans_text.replace(k, v)\n",
    "\n",
    "    return trans_text, total_replaced_chars"
   ],
   "id": "4faf7ab29416f3cf",
   "outputs": [],
   "execution_count": 21
  },
  {
   "metadata": {
    "ExecuteTime": {
     "end_time": "2024-11-12T03:14:17.780707Z",
     "start_time": "2024-11-12T03:14:13.005432Z"
    }
   },
   "cell_type": "code",
   "source": [
    "trans_data = []\n",
    "\n",
    "# 翻译结果写入为jsonl\n",
    "for question, answer in zip(questions, answers):\n",
    "    trans_question, question_replaced = translate(question)\n",
    "    if question != trans_question:\n",
    "        sc = question_replaced / len(question)\n",
    "        if sc > 0.2:\n",
    "            trans_data.append({\"input_text\": question, \"target_text\": trans_question, \"replaced_chars\": question_replaced})\n",
    "\n",
    "    trans_answer, answer_replaced = translate(answer)\n",
    "    if answer != trans_answer:\n",
    "        if question_replaced / len(question) > 0.2:\n",
    "            trans_data.append({\"input_text\": answer, \"target_text\": trans_answer, \"replaced_chars\": answer_replaced})\n",
    "\n",
    "# 随机打乱数据集\n",
    "import random\n",
    "\n",
    "random.shuffle(trans_data)\n",
    "with open('translate_trans_data.jsonl', 'w', encoding='utf-8') as f:\n",
    "    for item in trans_data[:40000]:\n",
    "        f.write(json.dumps(item, ensure_ascii=False) + '\\n')"
   ],
   "id": "5649ed8e83ff7080",
   "outputs": [],
   "execution_count": 22
  }
 ],
 "metadata": {
  "kernelspec": {
   "display_name": "Python 3 (ipykernel)",
   "language": "python",
   "name": "python3"
  },
  "language_info": {
   "codemirror_mode": {
    "name": "ipython",
    "version": 2
   },
   "file_extension": ".py",
   "mimetype": "text/x-python",
   "name": "python",
   "nbconvert_exporter": "python",
   "pygments_lexer": "ipython2",
   "version": "2.7.6"
  }
 },
 "nbformat": 4,
 "nbformat_minor": 5
}
