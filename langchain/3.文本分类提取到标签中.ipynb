{
 "cells": [
  {
   "metadata": {},
   "cell_type": "markdown",
   "source": [
    "# 文本分类提取到标签中\n",
    "利用大模型得function call 能力将文本中提取到得标签注入到实体中"
   ],
   "id": "fe88861463cdf1a3"
  },
  {
   "metadata": {},
   "cell_type": "markdown",
   "source": "## 加载环境变量",
   "id": "fd35a7fee72996c5"
  },
  {
   "metadata": {
    "ExecuteTime": {
     "end_time": "2024-12-05T07:55:33.013354Z",
     "start_time": "2024-12-05T07:55:32.974354Z"
    }
   },
   "cell_type": "code",
   "source": [
    "import os\n",
    "\n",
    "from dotenv import find_dotenv, load_dotenv\n",
    "\n",
    "# 读取本地/项目的环境变量。\n",
    "# find_dotenv()寻找并定位.env文件的路径\n",
    "# load_dotenv()读取该.env文件，并将其中的环境变量加载到当前的运行环境中  \n",
    "# 如果你设置的是全局的环境变量，这行代码则没有任何作用。\n",
    "env = load_dotenv(find_dotenv())\n",
    "os.environ[\"LANGCHAIN_API_KEY\"]"
   ],
   "id": "91e4070095c0e870",
   "outputs": [
    {
     "data": {
      "text/plain": [
       "'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'"
      ]
     },
     "execution_count": 1,
     "metadata": {},
     "output_type": "execute_result"
    }
   ],
   "execution_count": 1
  },
  {
   "metadata": {},
   "cell_type": "markdown",
   "source": "",
   "id": "3e774ae752ff14cb"
  },
  {
   "metadata": {},
   "cell_type": "markdown",
   "source": "## 定义一个实体描述所需要得属性",
   "id": "1e3ea61d759b987c"
  },
  {
   "metadata": {
    "ExecuteTime": {
     "end_time": "2024-12-05T08:13:41.182558Z",
     "start_time": "2024-12-05T08:13:39.789435Z"
    }
   },
   "cell_type": "code",
   "source": [
    "from langchain_openai import ChatOpenAI\n",
    "from pydantic import BaseModel, Field\n",
    "from langchain_core.prompts import ChatPromptTemplate\n",
    "\n",
    "tagging_prompt = ChatPromptTemplate.from_template(\n",
    "    \"\"\"从以下段落中提取所需要得信息，仅提取'{class_name}' 类实体中提到的属性。\n",
    "    \n",
    "    段落：\n",
    "    {input}\n",
    "    \"\"\"\n",
    ")\n",
    "\n",
    "\n",
    "class Classification(BaseModel):\n",
    "    sentiment: str = Field(description=\"文本的情绪\")\n",
    "    aggressiveness: int = Field(\n",
    "        description=\"文本有多激进，范围在1到10内\"\n",
    "    )\n",
    "    language: str = Field(description=\"文本所使用的语言，中文，英文，日语等\")\n",
    "\n",
    "\n",
    "# LLM\n",
    "base_url = os.environ[\"BASE_URL\"]\n",
    "api_key = os.environ[\"API_KEY\"]\n",
    "llm = ChatOpenAI(model=\"gpt-4o-mini\", api_key=api_key, base_url=base_url).with_structured_output(Classification)"
   ],
   "id": "31ed78f38f1d60ac",
   "outputs": [],
   "execution_count": 8
  },
  {
   "metadata": {},
   "cell_type": "markdown",
   "source": "## 调用大模型返回实体",
   "id": "d7ca4d5ef89ad40b"
  },
  {
   "metadata": {
    "ExecuteTime": {
     "end_time": "2024-12-05T08:14:37.854015Z",
     "start_time": "2024-12-05T08:14:36.773744Z"
    }
   },
   "cell_type": "code",
   "source": [
    "input_text = \"今天遇到了一个傻波依，差点没被气死掉。\"\n",
    "prompt = tagging_prompt.invoke({\"class_name\": \"Classification\", \"input\": input_text})\n",
    "response = llm.invoke(prompt)\n",
    "\n",
    "response"
   ],
   "id": "97d25c318808bb28",
   "outputs": [
    {
     "data": {
      "text/plain": [
       "Classification(sentiment='负面', aggressiveness=7, language='中文')"
      ]
     },
     "execution_count": 11,
     "metadata": {},
     "output_type": "execute_result"
    }
   ],
   "execution_count": 11
  },
  {
   "metadata": {},
   "cell_type": "markdown",
   "source": "## 返回类",
   "id": "e3e70b85372fb3e5"
  },
  {
   "metadata": {
    "ExecuteTime": {
     "end_time": "2024-12-05T08:15:40.816322Z",
     "start_time": "2024-12-05T08:15:39.710658Z"
    }
   },
   "cell_type": "code",
   "source": [
    "input_text = \"今天阳光明媚，心情很好。\"\n",
    "prompt = tagging_prompt.invoke({\"class_name\": \"Classification\", \"input\": input_text})\n",
    "response = llm.invoke(prompt)\n",
    "\n",
    "response.dict()"
   ],
   "id": "abbe374ca7c7f865",
   "outputs": [
    {
     "data": {
      "text/plain": [
       "{'sentiment': '积极', 'aggressiveness': 1, 'language': '中文'}"
      ]
     },
     "execution_count": 12,
     "metadata": {},
     "output_type": "execute_result"
    }
   ],
   "execution_count": 12
  }
 ],
 "metadata": {
  "kernelspec": {
   "display_name": "Python 3",
   "language": "python",
   "name": "python3"
  },
  "language_info": {
   "codemirror_mode": {
    "name": "ipython",
    "version": 2
   },
   "file_extension": ".py",
   "mimetype": "text/x-python",
   "name": "python",
   "nbconvert_exporter": "python",
   "pygments_lexer": "ipython2",
   "version": "2.7.6"
  }
 },
 "nbformat": 4,
 "nbformat_minor": 5
}
