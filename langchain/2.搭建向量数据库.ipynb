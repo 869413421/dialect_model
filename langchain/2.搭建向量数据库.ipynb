{
 "cells": [
  {
   "metadata": {},
   "cell_type": "markdown",
   "source": "# 搭建向量数据库",
   "id": "fe88861463cdf1a3"
  },
  {
   "metadata": {},
   "cell_type": "markdown",
   "source": "## 加载环境变量",
   "id": "fd35a7fee72996c5"
  },
  {
   "metadata": {},
   "cell_type": "code",
   "source": [
    "import os\n",
    "\n",
    "from dotenv import find_dotenv, load_dotenv\n",
    "\n",
    "# 读取本地/项目的环境变量。\n",
    "# find_dotenv()寻找并定位.env文件的路径\n",
    "# load_dotenv()读取该.env文件，并将其中的环境变量加载到当前的运行环境中  \n",
    "# 如果你设置的是全局的环境变量，这行代码则没有任何作用。\n",
    "env = load_dotenv(find_dotenv())\n",
    "os.environ[\"LANGCHAIN_API_KEY\"]"
   ],
   "id": "91e4070095c0e870",
   "outputs": [],
   "execution_count": null
  },
  {
   "metadata": {},
   "cell_type": "markdown",
   "source": "## 读取数据",
   "id": "acf0e1570210a511"
  },
  {
   "metadata": {},
   "cell_type": "code",
   "source": [
    "file_paths = []\n",
    "folder_path = './knowledge_data'\n",
    "for root, dirs, files in os.walk(folder_path):\n",
    "    for file in files:\n",
    "        file_path = os.path.join(root, file)\n",
    "        file_paths.append(file_path)\n",
    "file_paths"
   ],
   "id": "93c8a4056a334c53",
   "outputs": [],
   "execution_count": null
  },
  {
   "metadata": {},
   "cell_type": "markdown",
   "source": "## 安装PDF读取工具",
   "id": "d435e37485e92048"
  },
  {
   "metadata": {},
   "cell_type": "code",
   "source": "!pip install langchain-community pypdf",
   "id": "c78137cb6dffae03",
   "outputs": [],
   "execution_count": null
  },
  {
   "metadata": {},
   "cell_type": "markdown",
   "source": "## 读取PDF文件",
   "id": "cb6f46040fc395a5"
  },
  {
   "metadata": {},
   "cell_type": "code",
   "source": [
    "import re\n",
    "from langchain.document_loaders import PyPDFLoader\n",
    "\n",
    "loaders = []\n",
    "\n",
    "for file_path in file_paths[1:4]:\n",
    "    loader = PyPDFLoader(file_path)\n",
    "    loaders.append(loader)\n",
    "\n",
    "\n",
    "# 清洗数据\n",
    "def clear_content(content):\n",
    "    pattern = re.compile(r'[^\\u4e00-\\u9fff](\\n)[^\\u4e00-\\u9fff]', re.DOTALL)\n",
    "    content = re.sub(pattern, lambda match: match.group(0).replace('\\n', ''), content)\n",
    "    return content\n",
    "\n",
    "\n",
    "texts = []\n",
    "for loader in loaders:\n",
    "    docs = loader.load()\n",
    "    for doc in docs:\n",
    "        doc.page_content = clear_content(doc.page_content)\n",
    "        texts.append(doc)\n",
    "texts"
   ],
   "id": "b32747ee30ad8441",
   "outputs": [],
   "execution_count": null
  },
  {
   "metadata": {},
   "cell_type": "markdown",
   "source": "## 文档切割",
   "id": "6681c34dc0fd2415"
  },
  {
   "metadata": {},
   "cell_type": "code",
   "source": [
    "from langchain.text_splitter import RecursiveCharacterTextSplitter\n",
    "\n",
    "# 切分文档\n",
    "text_splitter = RecursiveCharacterTextSplitter(\n",
    "    chunk_size=500, chunk_overlap=50)\n",
    "\n",
    "split_docs = text_splitter.split_documents(texts)"
   ],
   "id": "b8f57beaa27bfd74",
   "outputs": [],
   "execution_count": null
  },
  {
   "metadata": {},
   "cell_type": "code",
   "source": "split_docs[0]",
   "id": "a7db3f721ea8b1f5",
   "outputs": [],
   "execution_count": null
  },
  {
   "metadata": {},
   "cell_type": "markdown",
   "source": "## 创建向量数据库",
   "id": "760282c2a3491b60"
  },
  {
   "metadata": {},
   "cell_type": "code",
   "source": "!pip install chromadb",
   "id": "cc54628797ad3fb8",
   "outputs": [],
   "execution_count": null
  },
  {
   "metadata": {},
   "cell_type": "code",
   "source": [
    "from langchain.vectorstores import Chroma\n",
    "\n",
    "from langchain_openai import OpenAIEmbeddings\n",
    "\n",
    "base_url = os.environ[\"BASE_URL\"]\n",
    "api_key = os.environ[\"API_KEY\"]\n",
    "embeddings_model = OpenAIEmbeddings(model=\"text-embedding-3-large\", base_url=base_url, api_key=api_key)\n",
    "\n",
    "persist_directory = './chroma_db'\n",
    "db = Chroma.from_documents(\n",
    "    documents=split_docs,\n",
    "    embedding=embeddings_model,\n",
    "    persist_directory=persist_directory\n",
    ")"
   ],
   "id": "50f1dc13b2c32113",
   "outputs": [],
   "execution_count": null
  },
  {
   "metadata": {},
   "cell_type": "markdown",
   "source": "## 向量检索",
   "id": "2ec3ae2bd2c9a699"
  },
  {
   "metadata": {},
   "cell_type": "code",
   "source": "question = \"什么是数据结构？\"",
   "id": "d2c6b7357f8447de",
   "outputs": [],
   "execution_count": null
  },
  {
   "metadata": {},
   "cell_type": "code",
   "source": [
    "# 当你需要数据库返回严谨的按余弦相似度排序的结果时可以使用similarity_search函数。\n",
    "similar_docs = db.similarity_search(question, k=3)\n",
    "print(\"相似度最高的文档数量:\", len(similar_docs))"
   ],
   "id": "1b15473cb6797463",
   "outputs": [],
   "execution_count": null
  },
  {
   "metadata": {},
   "cell_type": "code",
   "source": [
    "for i, doc in enumerate(similar_docs):\n",
    "    print(f\"第{i + 1}个文档：\\n\\n{doc.page_content}\\n\\n\")"
   ],
   "id": "6cf7f4f877b57250",
   "outputs": [],
   "execution_count": null
  },
  {
   "metadata": {},
   "cell_type": "markdown",
   "source": "## 最大边际检索",
   "id": "3215a984d23321a"
  },
  {
   "metadata": {},
   "cell_type": "markdown",
   "source": [
    "如果只考虑检索出内容的相关性会导致内容过于单一，可能丢失重要信息。\n",
    "\n",
    "最大边际相关性 (MMR, Maximum marginal relevance) 可以帮助我们在保持相关性的同时，增加内容的丰富度。\n",
    "\n",
    "核心思想是在已经选择了一个相关性高的文档之后，再选择一个与已选文档相关性较低但是信息丰富的文档。这样可以在保持相关性的同时，增加内容的多样性，避免过于单一的结果。"
   ],
   "id": "1eda9713d2d5e715"
  },
  {
   "metadata": {},
   "cell_type": "code",
   "source": "mmr_docs = db.max_marginal_relevance_search(question, k=3)",
   "id": "a547d18603ff326",
   "outputs": [],
   "execution_count": null
  },
  {
   "metadata": {},
   "cell_type": "code",
   "source": [
    "for i, doc in enumerate(mmr_docs):\n",
    "    print(f\"第{i + 1}个文档：\\n\\n{doc.page_content}\\n\\n\")"
   ],
   "id": "d15f2d45c15b6cf3",
   "outputs": [],
   "execution_count": null
  },
  {
   "metadata": {},
   "cell_type": "markdown",
   "source": "## 封装为chain",
   "id": "38e7412fc1c948dc"
  },
  {
   "metadata": {
    "ExecuteTime": {
     "end_time": "2024-11-29T06:33:06.092561Z",
     "start_time": "2024-11-29T06:33:05.141474Z"
    }
   },
   "cell_type": "code",
   "source": [
    "from typing import List\n",
    "\n",
    "from langchain_core.documents import Document\n",
    "from langchain_core.runnables import chain\n",
    "\n",
    "\n",
    "@chain\n",
    "def retriever(query: str) -> List[Document]:\n",
    "    return db.similarity_search(query, k=1)\n",
    "\n",
    "\n",
    "retriever.batch(\n",
    "    [\n",
    "        \"冒泡排序是什么\",\n",
    "        \"递归是什么\",\n",
    "    ],\n",
    ")"
   ],
   "id": "bc01868d6a263259",
   "outputs": [
    {
     "data": {
      "text/plain": [
       "[[Document(metadata={'page': 1, 'source': './knowledge_data\\\\03_排序.pdf'}, page_content='1.2 \\n冒泡排序  \\n冒泡排序（ Bubble Sort），是一种计算机科学领域的较简单的排序算法。 \\n需求：  \\n \\n排序前： {4,5,6,3,2,1} \\n  \\n  \\npu\\nbl\\nic\\n v\\noi\\nd \\nse\\ntA\\nge\\n(i\\nnt\\n a\\nge\\n) \\n{ \\n  \\n  \\n  \\n t\\nhi\\ns.\\nag\\ne \\n= \\nag\\ne;\\n  \\n  \\n} \\n  \\n  \\n@O\\nve\\nrr\\nid\\ne \\n  \\n p\\nub\\nli\\nc \\nSt\\nri\\nng\\n t\\noS\\ntr\\nin\\ng(\\n) \\n{ \\n  \\n  \\n  \\n r\\net\\nur\\nn \\n\"S\\ntu\\nde\\nnt\\n{\"\\n +\\n  \\n  \\n  \\n  \\n  \\n  \\n  \\n  \\n\"u\\nse\\nrn\\nam\\ne=\\n\\'\"\\n +\\n u\\nse\\nrn\\nam\\ne \\n+ \\n\\'\\\\\\n\\'\\'\\n +\\n  \\n  \\n  \\n  \\n  \\n  \\n  \\n  \\n\",\\n a\\nge\\n=\"\\n +\\n a\\nge\\n +\\n  \\n  \\n  \\n  \\n  \\n  \\n  \\n  \\n\\'}\\n\\';\\n  \\n  \\n} \\n  \\n /\\n/\\n定 \\n义 \\n比 \\n较 \\n规 \\n则  \\n  \\n @\\nOv\\ner\\nri\\nde\\n  \\n  \\npu\\nbl\\nic\\n i')],\n",
       " [Document(metadata={'page': 13, 'source': './knowledge_data\\\\03_排序.pdf'}, page_content='在递归中，不能无限制的调用自己，必须要有边界条件，能够让递归结束，因为每一次递归调用都会在栈内存开辟 \\n新的空间，重新执行方法，如果递归的层级太深，很容易造成栈内存溢出。 \\n需求：  \\n \\n请定义一个方法，使用递归完成求 N\\n的阶乘；  \\n代码实现： \\n分 \\n析 ：  \\n1!\\n: \\n  \\n  \\n12\\n!:\\n  \\n  \\n 2\\n*1\\n=2\\n*1\\n!3\\n!:\\n  \\n  \\n 3\\n*2\\n*1\\n=3\\n*2\\n!4\\n!:\\n  \\n  \\n 4\\n*3\\n*2\\n*1\\n=4\\n*3\\n!.\\n..\\nn!\\n: \\n  \\n  \\nn*\\n(n\\n-1\\n)*\\n(n\\n-2\\n).\\n..\\n*2\\n*1\\n=n\\n*(\\nn-\\n1)\\n! \\n  \\n所 \\n以 ， \\n假 \\n设 \\n有 \\n一 \\n个 \\n方 \\n法 f\\nac\\nto\\nri\\nal\\n(n\\n)\\n用 \\n来 \\n求 n\\n的 \\n阶 \\n乘 ， \\n那 \\n么 n\\n的 \\n阶 \\n乘 \\n还 \\n可 \\n以 \\n表 \\n示 \\n为 n\\n*f\\nac\\nto\\nri\\nal\\n(n\\n-1\\n)1\\n23\\n45\\n67\\n89\\n10\\n北京市昌平区建材城西路金燕龙办公楼一层   电话：400-618-9090')]]"
      ]
     },
     "execution_count": 36,
     "metadata": {},
     "output_type": "execute_result"
    }
   ],
   "execution_count": 36
  }
 ],
 "metadata": {
  "kernelspec": {
   "display_name": "Python 3",
   "language": "python",
   "name": "python3"
  },
  "language_info": {
   "codemirror_mode": {
    "name": "ipython",
    "version": 2
   },
   "file_extension": ".py",
   "mimetype": "text/x-python",
   "name": "python",
   "nbconvert_exporter": "python",
   "pygments_lexer": "ipython2",
   "version": "2.7.6"
  }
 },
 "nbformat": 4,
 "nbformat_minor": 5
}
